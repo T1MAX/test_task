{
  "nbformat": 4,
  "nbformat_minor": 0,
  "metadata": {
    "colab": {
      "name": "Untitled2.ipynb",
      "provenance": [],
      "authorship_tag": "ABX9TyNJ0/LGqyeLfTBG5o52Eeri"
    },
    "kernelspec": {
      "name": "python3",
      "display_name": "Python 3"
    }
  },
  "cells": [
    {
      "cell_type": "markdown",
      "metadata": {
        "id": "fYQUaj5FH8pB"
      },
      "source": [
        "Предположил, что отправленные из 1 кластера во второй деньги - это то, что получил второй кластер. А fees отправитель платит дополнительно."
      ]
    },
    {
      "cell_type": "code",
      "metadata": {
        "id": "8XVNOnQ1HfKn"
      },
      "source": [
        "import pandas as pd"
      ],
      "execution_count": 184,
      "outputs": []
    },
    {
      "cell_type": "markdown",
      "metadata": {
        "id": "0HrMCVDEWrEI"
      },
      "source": [
        "Прочитаем данные и запишем их в датафреймы"
      ]
    },
    {
      "cell_type": "code",
      "metadata": {
        "id": "ep-FWnohLijL",
        "outputId": "e5c97a11-ee77-4a97-ce61-5cbb504d9203",
        "colab": {
          "base_uri": "https://localhost:8080/",
          "height": 227
        }
      },
      "source": [
        "clust = pd.read_csv('address_clust.csv', index_col='address_id')\n",
        "clust.head()"
      ],
      "execution_count": 185,
      "outputs": [
        {
          "output_type": "execute_result",
          "data": {
            "text/html": [
              "<div>\n",
              "<style scoped>\n",
              "    .dataframe tbody tr th:only-of-type {\n",
              "        vertical-align: middle;\n",
              "    }\n",
              "\n",
              "    .dataframe tbody tr th {\n",
              "        vertical-align: top;\n",
              "    }\n",
              "\n",
              "    .dataframe thead th {\n",
              "        text-align: right;\n",
              "    }\n",
              "</style>\n",
              "<table border=\"1\" class=\"dataframe\">\n",
              "  <thead>\n",
              "    <tr style=\"text-align: right;\">\n",
              "      <th></th>\n",
              "      <th>cluster_id</th>\n",
              "    </tr>\n",
              "    <tr>\n",
              "      <th>address_id</th>\n",
              "      <th></th>\n",
              "    </tr>\n",
              "  </thead>\n",
              "  <tbody>\n",
              "    <tr>\n",
              "      <th>71413451</th>\n",
              "      <td>1</td>\n",
              "    </tr>\n",
              "    <tr>\n",
              "      <th>71411914</th>\n",
              "      <td>1</td>\n",
              "    </tr>\n",
              "    <tr>\n",
              "      <th>71410369</th>\n",
              "      <td>1</td>\n",
              "    </tr>\n",
              "    <tr>\n",
              "      <th>71410100</th>\n",
              "      <td>1</td>\n",
              "    </tr>\n",
              "    <tr>\n",
              "      <th>71410040</th>\n",
              "      <td>1</td>\n",
              "    </tr>\n",
              "  </tbody>\n",
              "</table>\n",
              "</div>"
            ],
            "text/plain": [
              "            cluster_id\n",
              "address_id            \n",
              "71413451             1\n",
              "71411914             1\n",
              "71410369             1\n",
              "71410100             1\n",
              "71410040             1"
            ]
          },
          "metadata": {
            "tags": []
          },
          "execution_count": 185
        }
      ]
    },
    {
      "cell_type": "code",
      "metadata": {
        "id": "lqvXR75cWpw6",
        "outputId": "fa400601-ea48-49a1-ae8e-b550a8875a28",
        "colab": {
          "base_uri": "https://localhost:8080/",
          "height": 227
        }
      },
      "source": [
        "stats = pd.read_csv('address_stats.csv', index_col='id')\n",
        "stats.head()"
      ],
      "execution_count": 186,
      "outputs": [
        {
          "output_type": "execute_result",
          "data": {
            "text/html": [
              "<div>\n",
              "<style scoped>\n",
              "    .dataframe tbody tr th:only-of-type {\n",
              "        vertical-align: middle;\n",
              "    }\n",
              "\n",
              "    .dataframe tbody tr th {\n",
              "        vertical-align: top;\n",
              "    }\n",
              "\n",
              "    .dataframe thead th {\n",
              "        text-align: right;\n",
              "    }\n",
              "</style>\n",
              "<table border=\"1\" class=\"dataframe\">\n",
              "  <thead>\n",
              "    <tr style=\"text-align: right;\">\n",
              "      <th></th>\n",
              "      <th>address_id</th>\n",
              "      <th>transaction_id</th>\n",
              "      <th>received</th>\n",
              "      <th>sent</th>\n",
              "    </tr>\n",
              "    <tr>\n",
              "      <th>id</th>\n",
              "      <th></th>\n",
              "      <th></th>\n",
              "      <th></th>\n",
              "      <th></th>\n",
              "    </tr>\n",
              "  </thead>\n",
              "  <tbody>\n",
              "    <tr>\n",
              "      <th>87134765</th>\n",
              "      <td>46402336</td>\n",
              "      <td>19162323</td>\n",
              "      <td>0.0</td>\n",
              "      <td>1800000.0</td>\n",
              "    </tr>\n",
              "    <tr>\n",
              "      <th>87134766</th>\n",
              "      <td>45919235</td>\n",
              "      <td>19162323</td>\n",
              "      <td>0.0</td>\n",
              "      <td>1071052.0</td>\n",
              "    </tr>\n",
              "    <tr>\n",
              "      <th>87134767</th>\n",
              "      <td>46529090</td>\n",
              "      <td>19162323</td>\n",
              "      <td>1000000.0</td>\n",
              "      <td>0.0</td>\n",
              "    </tr>\n",
              "    <tr>\n",
              "      <th>87134768</th>\n",
              "      <td>46529091</td>\n",
              "      <td>19162323</td>\n",
              "      <td>1821052.0</td>\n",
              "      <td>0.0</td>\n",
              "    </tr>\n",
              "    <tr>\n",
              "      <th>87154706</th>\n",
              "      <td>46529090</td>\n",
              "      <td>19166856</td>\n",
              "      <td>0.0</td>\n",
              "      <td>1000000.0</td>\n",
              "    </tr>\n",
              "  </tbody>\n",
              "</table>\n",
              "</div>"
            ],
            "text/plain": [
              "          address_id  transaction_id   received       sent\n",
              "id                                                        \n",
              "87134765    46402336        19162323        0.0  1800000.0\n",
              "87134766    45919235        19162323        0.0  1071052.0\n",
              "87134767    46529090        19162323  1000000.0        0.0\n",
              "87134768    46529091        19162323  1821052.0        0.0\n",
              "87154706    46529090        19166856        0.0  1000000.0"
            ]
          },
          "metadata": {
            "tags": []
          },
          "execution_count": 186
        }
      ]
    },
    {
      "cell_type": "markdown",
      "metadata": {
        "id": "pxLkqHjxXL01"
      },
      "source": [
        "Выведем количество адресов, принадлежащих 1 и 2 кластеру"
      ]
    },
    {
      "cell_type": "code",
      "metadata": {
        "id": "vAsQIiLMQ-Hz",
        "outputId": "a01a3f79-675e-4678-c689-e1131473886f",
        "colab": {
          "base_uri": "https://localhost:8080/",
          "height": 66
        }
      },
      "source": [
        "clust.cluster_id.value_counts()"
      ],
      "execution_count": 187,
      "outputs": [
        {
          "output_type": "execute_result",
          "data": {
            "text/plain": [
              "1    3652\n",
              "2    3344\n",
              "Name: cluster_id, dtype: int64"
            ]
          },
          "metadata": {
            "tags": []
          },
          "execution_count": 187
        }
      ]
    },
    {
      "cell_type": "markdown",
      "metadata": {
        "id": "2qdpnmSoXQAd"
      },
      "source": [
        "Добавим к таблице stats еще один столбец - номер кластера. Если значения stats.address_id нет в таблице clust, значит адрес принадлежит кластеру 0"
      ]
    },
    {
      "cell_type": "code",
      "metadata": {
        "id": "2EJKwNPMEFS4",
        "outputId": "75e50f45-b529-4547-a21b-c6234c39624b",
        "colab": {
          "base_uri": "https://localhost:8080/",
          "height": 227
        }
      },
      "source": [
        "full_clusters = stats.address_id.apply(lambda s: clust.cluster_id[s] if s in clust.index else 0)\n",
        "stats['cluster_id'] = full_clusters\n",
        "stats.head()"
      ],
      "execution_count": 188,
      "outputs": [
        {
          "output_type": "execute_result",
          "data": {
            "text/html": [
              "<div>\n",
              "<style scoped>\n",
              "    .dataframe tbody tr th:only-of-type {\n",
              "        vertical-align: middle;\n",
              "    }\n",
              "\n",
              "    .dataframe tbody tr th {\n",
              "        vertical-align: top;\n",
              "    }\n",
              "\n",
              "    .dataframe thead th {\n",
              "        text-align: right;\n",
              "    }\n",
              "</style>\n",
              "<table border=\"1\" class=\"dataframe\">\n",
              "  <thead>\n",
              "    <tr style=\"text-align: right;\">\n",
              "      <th></th>\n",
              "      <th>address_id</th>\n",
              "      <th>transaction_id</th>\n",
              "      <th>received</th>\n",
              "      <th>sent</th>\n",
              "      <th>cluster_id</th>\n",
              "    </tr>\n",
              "    <tr>\n",
              "      <th>id</th>\n",
              "      <th></th>\n",
              "      <th></th>\n",
              "      <th></th>\n",
              "      <th></th>\n",
              "      <th></th>\n",
              "    </tr>\n",
              "  </thead>\n",
              "  <tbody>\n",
              "    <tr>\n",
              "      <th>87134765</th>\n",
              "      <td>46402336</td>\n",
              "      <td>19162323</td>\n",
              "      <td>0.0</td>\n",
              "      <td>1800000.0</td>\n",
              "      <td>0</td>\n",
              "    </tr>\n",
              "    <tr>\n",
              "      <th>87134766</th>\n",
              "      <td>45919235</td>\n",
              "      <td>19162323</td>\n",
              "      <td>0.0</td>\n",
              "      <td>1071052.0</td>\n",
              "      <td>0</td>\n",
              "    </tr>\n",
              "    <tr>\n",
              "      <th>87134767</th>\n",
              "      <td>46529090</td>\n",
              "      <td>19162323</td>\n",
              "      <td>1000000.0</td>\n",
              "      <td>0.0</td>\n",
              "      <td>1</td>\n",
              "    </tr>\n",
              "    <tr>\n",
              "      <th>87134768</th>\n",
              "      <td>46529091</td>\n",
              "      <td>19162323</td>\n",
              "      <td>1821052.0</td>\n",
              "      <td>0.0</td>\n",
              "      <td>0</td>\n",
              "    </tr>\n",
              "    <tr>\n",
              "      <th>87154706</th>\n",
              "      <td>46529090</td>\n",
              "      <td>19166856</td>\n",
              "      <td>0.0</td>\n",
              "      <td>1000000.0</td>\n",
              "      <td>1</td>\n",
              "    </tr>\n",
              "  </tbody>\n",
              "</table>\n",
              "</div>"
            ],
            "text/plain": [
              "          address_id  transaction_id   received       sent  cluster_id\n",
              "id                                                                    \n",
              "87134765    46402336        19162323        0.0  1800000.0           0\n",
              "87134766    45919235        19162323        0.0  1071052.0           0\n",
              "87134767    46529090        19162323  1000000.0        0.0           1\n",
              "87134768    46529091        19162323  1821052.0        0.0           0\n",
              "87154706    46529090        19166856        0.0  1000000.0           1"
            ]
          },
          "metadata": {
            "tags": []
          },
          "execution_count": 188
        }
      ]
    },
    {
      "cell_type": "markdown",
      "metadata": {
        "id": "34VY3wSx1i5b"
      },
      "source": [
        "Проверка на то, что в каждой транзакции деньги сначала отправляются, а потом получаются. То есть нет такого, что кто-то отправил, другой получил, а после этого в этой же транзакции кто-то еще отправил (возможно, это очевидно, но я в блокчейне не разбирался пока). Данная ячейка не выводит ничего"
      ]
    },
    {
      "cell_type": "code",
      "metadata": {
        "id": "TDjnVLjLhr-p"
      },
      "source": [
        "last_trans = None\n",
        "rec = False\n",
        "for index, row in stats.iterrows():\n",
        "  if last_trans != row.transaction_id:\n",
        "    rec = False\n",
        "    last_trans = row.transaction_id\n",
        "  else:\n",
        "    if row.received > 0:\n",
        "      rec = True\n",
        "    if rec and row.sent > 0:\n",
        "      print(row.transaction_id)\n",
        "      break"
      ],
      "execution_count": 189,
      "outputs": []
    },
    {
      "cell_type": "markdown",
      "metadata": {
        "id": "PDEznQet61YW"
      },
      "source": [
        "Проверим еще одно предположение: отправитель в каждой транзакции всегда один. Это оказалось действительно так, потому что ячейка ничего не вывела"
      ]
    },
    {
      "cell_type": "code",
      "metadata": {
        "id": "ut2LuNiH6NI5"
      },
      "source": [
        "last_trans = None\n",
        "for index, row in stats.iterrows():\n",
        "  if last_trans != row.transaction_id:\n",
        "    if row.sent > 0:\n",
        "      cl_sent = row.cluster_id\n",
        "    last_trans = row.transaction_id\n",
        "  else:\n",
        "    if row.sent > 0 and cl_sent != row.cluster_id:\n",
        "      print(row.transaction_id)\n",
        "      break"
      ],
      "execution_count": 190,
      "outputs": []
    },
    {
      "cell_type": "markdown",
      "metadata": {
        "id": "32HWWcIq2Wea"
      },
      "source": [
        "Если в каждой транзакции деньги сначала кто-то отправляет, а потом кто-то получает, можно для каждой транзакции и каждого кластера, участвующего в ней, посчитать сумму отправленных и полученных денег."
      ]
    },
    {
      "cell_type": "code",
      "metadata": {
        "id": "o4rSZVHjddwf"
      },
      "source": [
        "sent = stats.groupby(['transaction_id', 'cluster_id'])['sent'].sum()"
      ],
      "execution_count": 191,
      "outputs": []
    },
    {
      "cell_type": "code",
      "metadata": {
        "id": "AZkLF1MqfbBx"
      },
      "source": [
        "received = stats.groupby(['transaction_id', 'cluster_id'])['received'].sum()"
      ],
      "execution_count": 192,
      "outputs": []
    },
    {
      "cell_type": "markdown",
      "metadata": {
        "id": "z5yNygODDQF8"
      },
      "source": [
        "Функция получения суммы отправленных денег между двумя кластерами"
      ]
    },
    {
      "cell_type": "code",
      "metadata": {
        "id": "BjJK8ALi3WUU"
      },
      "source": [
        "def get_sent_received(first_cl, second_cl):\n",
        "  first_to_second = 0\n",
        "  second_to_first = 0\n",
        "  # рассмотрим операции внутри каждой транзакции\n",
        "  for tr in stats.transaction_id.unique():\n",
        "    # если рассматриваемые кластеры не участвуют в транзакции, пропускаем её\n",
        "    if first_cl not in received[tr].index or second_cl not in received[tr].index:\n",
        "      continue\n",
        "\n",
        "    # если отправляет первый, то добавляем полученное вторым к соответствующей переменной\n",
        "    if first_cl == sent[tr].idxmax():\n",
        "      first_to_second += received[tr][second_cl]\n",
        "    # если отправляет второй, то добавляем полученное первым к соответствующей переменной\n",
        "    elif second_cl == sent[tr].idxmax():\n",
        "      second_to_first += received[tr][first_cl]\n",
        "  \n",
        "  # переведем сатоши в биткоины\n",
        "  first_to_second, second_to_first = first_to_second / 1e8, second_to_first / 1e8\n",
        "\n",
        "  return first_to_second, second_to_first"
      ],
      "execution_count": 193,
      "outputs": []
    },
    {
      "cell_type": "code",
      "metadata": {
        "id": "geicj2iq0bMp",
        "outputId": "64503dd8-af98-4fb2-aa9b-c17edd307fd2",
        "colab": {
          "base_uri": "https://localhost:8080/",
          "height": 50
        }
      },
      "source": [
        "first, second = get_sent_received(1, 2)\n",
        "print('Первый кластер отправил во второй: {:.2f} биткоинов,\\nвторой кластер отправил в первый {:.2f} биткоинов'.format(first, second))"
      ],
      "execution_count": 194,
      "outputs": [
        {
          "output_type": "stream",
          "text": [
            "Первый кластер отправил во второй: 129.24 биткоинов,\n",
            "второй кластер отправил в первый 135.82 биткоинов\n"
          ],
          "name": "stdout"
        }
      ]
    },
    {
      "cell_type": "code",
      "metadata": {
        "id": "VXkZOv2NpJzr",
        "outputId": "b571d8f8-3e64-4ccd-b202-e4783f24281c",
        "colab": {
          "base_uri": "https://localhost:8080/",
          "height": 50
        }
      },
      "source": [
        "first, second = get_sent_received(0, 1)\n",
        "print('Нулевой кластер отправил в первый: {:.2f} биткоинов,\\nпервый кластер отправил в нулевой {:.2f} биткоинов'.format(first, second))"
      ],
      "execution_count": 195,
      "outputs": [
        {
          "output_type": "stream",
          "text": [
            "Нулевой кластер отправил в первый: 297.12 биткоинов,\n",
            "первый кластер отправил в нулевой 300.55 биткоинов\n"
          ],
          "name": "stdout"
        }
      ]
    },
    {
      "cell_type": "code",
      "metadata": {
        "id": "8THBXLwiC7A4",
        "outputId": "9ed25511-9a8e-43f8-e568-fe6a4ea0a667",
        "colab": {
          "base_uri": "https://localhost:8080/",
          "height": 50
        }
      },
      "source": [
        "first, second = get_sent_received(0, 2)\n",
        "print('Нулевой кластер отправил во второй: {:.2f} биткоинов,\\nвторой кластер отправил в нулевой {:.2f} биткоинов'.format(first, second))"
      ],
      "execution_count": 196,
      "outputs": [
        {
          "output_type": "stream",
          "text": [
            "Нулевой кластер отправил во второй: 9.74 биткоинов,\n",
            "второй кластер отправил в нулевой 4.87 биткоинов\n"
          ],
          "name": "stdout"
        }
      ]
    },
    {
      "cell_type": "code",
      "metadata": {
        "id": "Ozbe2BukEgZu"
      },
      "source": [
        "def get_fees(cluster):\n",
        "  fees = 0\n",
        "  for tr in stats.transaction_id.unique():\n",
        "    # если кластер не участвует в транзакции или не отправляет деньги, пропускаем транзакцию\n",
        "    if cluster not in sent[tr].index or sent[tr][cluster] == 0:\n",
        "      continue\n",
        "\n",
        "    # добавляем к fees разницу отправленного и полученного в данной транзакции\n",
        "    fees += sent[tr][cluster] - received[tr].sum()\n",
        "\n",
        "  # сатоши в биткоины\n",
        "  fees /= 1e8\n",
        "  return fees"
      ],
      "execution_count": 197,
      "outputs": []
    },
    {
      "cell_type": "code",
      "metadata": {
        "id": "u30rqa4XFvrp",
        "outputId": "e9b5aeee-9491-44de-893d-0e70504b9412",
        "colab": {
          "base_uri": "https://localhost:8080/",
          "height": 33
        }
      },
      "source": [
        "fees = get_fees(1)\n",
        "print('Первый кластер потратил на fees: {:.2f} биткоинов'.format(fees))"
      ],
      "execution_count": 198,
      "outputs": [
        {
          "output_type": "stream",
          "text": [
            "Первый кластер потратил на fees: 0.67 биткоинов\n"
          ],
          "name": "stdout"
        }
      ]
    },
    {
      "cell_type": "code",
      "metadata": {
        "id": "M2GlY-2hFz3r",
        "outputId": "c817972b-81d4-470d-c2ff-f40611732d2b",
        "colab": {
          "base_uri": "https://localhost:8080/",
          "height": 33
        }
      },
      "source": [
        "fees = get_fees(2)\n",
        "print('Второй кластер потратил на fees: {:.2f} биткоинов'.format(fees))"
      ],
      "execution_count": 199,
      "outputs": [
        {
          "output_type": "stream",
          "text": [
            "Второй кластер потратил на fees: 0.75 биткоинов\n"
          ],
          "name": "stdout"
        }
      ]
    },
    {
      "cell_type": "markdown",
      "metadata": {
        "id": "JxEha5q6HXsA"
      },
      "source": [
        "### Ответы:\n",
        "\n",
        "Первый кластер отправил во второй: 129.24 биткоинов,\n",
        "второй кластер отправил в первый 135.82 биткоинов\n",
        "\n",
        "Нулевой кластер отправил в первый: 297.12 биткоинов,\n",
        "первый кластер отправил в нулевой 300.55 биткоинов\n",
        "\n",
        "Нулевой кластер отправил во второй: 9.74 биткоинов,\n",
        "второй кластер отправил в нулевой 4.87 биткоинов\n",
        "\n",
        "Первый кластер потратил на fees: 0.67 биткоинов\n",
        "\n",
        "Второй кластер потратил на fees: 0.75 биткоинов"
      ]
    }
  ]
}